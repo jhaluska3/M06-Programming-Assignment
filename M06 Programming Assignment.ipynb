{
 "cells": [
  {
   "cell_type": "code",
   "execution_count": 1,
   "id": "07b49eaf",
   "metadata": {},
   "outputs": [],
   "source": [
    "#13.1\n",
    "import datetime\n",
    "today = datetime.date.today()\n",
    "file_ptr = open('today.txt', 'w')\n",
    "file_ptr.write(str(today))\n",
    "file_ptr.close()"
   ]
  },
  {
   "cell_type": "code",
   "execution_count": 5,
   "id": "cbcabca6",
   "metadata": {},
   "outputs": [],
   "source": [
    "#13.2\n",
    "file_ptr = open('today.txt', 'r')\n",
    "today_string = file_ptr.read()\n",
    "file_ptr.close()"
   ]
  },
  {
   "cell_type": "code",
   "execution_count": 6,
   "id": "f9c1b63f",
   "metadata": {},
   "outputs": [
    {
     "name": "stdout",
     "output_type": "stream",
     "text": [
      "Today is 2023-02-21\n"
     ]
    }
   ],
   "source": [
    "#13.3\n",
    "today = datetime.datetime.strptime(today_string, '%Y-%m-%d').date()\n",
    "print('Today is', today)\n"
   ]
  },
  {
   "cell_type": "code",
   "execution_count": 15,
   "id": "b848ed8e",
   "metadata": {},
   "outputs": [
    {
     "name": "stdout",
     "output_type": "stream",
     "text": [
      "Current date and time: 2023-02-21 09:28:43.477712\n",
      "Current date and time: 2023-02-21 09:28:44.056019\n",
      "Current date and time: 2023-02-21 09:28:44.629482\n"
     ]
    }
   ],
   "source": [
    "15.1\n",
    "import multiprocessing\n",
    "from datetime import datetime\n",
    "import time\n",
    "import random\n",
    "\n",
    "\n",
    "def print_time():\n",
    "    now = datetime.now()\n",
    "    print(\"Current date and time: {}\".format(now))\n",
    "    time.sleep(random.random())\n",
    "\n",
    "\n",
    "if __name__ == '__main__':\n",
    "    time1 = multiprocessing.Process(target=print_time())\n",
    "    time2 = multiprocessing.Process(target=print_time())\n",
    "    time3 = multiprocessing.Process(target=print_time())\n",
    "    time1.start()\n",
    "    time2.start()\n",
    "    time3.start()\n",
    "  "
   ]
  },
  {
   "cell_type": "code",
   "execution_count": null,
   "id": "75a715cf",
   "metadata": {},
   "outputs": [],
   "source": []
  }
 ],
 "metadata": {
  "kernelspec": {
   "display_name": "Python 3 (ipykernel)",
   "language": "python",
   "name": "python3"
  },
  "language_info": {
   "codemirror_mode": {
    "name": "ipython",
    "version": 3
   },
   "file_extension": ".py",
   "mimetype": "text/x-python",
   "name": "python",
   "nbconvert_exporter": "python",
   "pygments_lexer": "ipython3",
   "version": "3.9.13"
  }
 },
 "nbformat": 4,
 "nbformat_minor": 5
}
